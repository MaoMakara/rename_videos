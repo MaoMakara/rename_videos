{
 "cells": [
  {
   "cell_type": "code",
   "execution_count": 92,
   "id": "69232e6a",
   "metadata": {},
   "outputs": [],
   "source": [
    "#rename all file in folder\n",
    "\n",
    "import os\n",
    "path = 'C:/Users/*****/Desktop/New folder/ks50_kd10'\n",
    "files = os.listdir(path)\n",
    "\n",
    "\n",
    "for index, file in enumerate(files):\n",
    "    os.rename(os.path.join(path, file), os.path.join(path, 'v_ks10_kd10_c'+ str(index) + '.mp4'))\n",
    "    #os.rename(os.path.join(path, file), os.path.join(path, 'ks10_kd10'.join([str(index), '.mp4'])))"
   ]
  },
  {
   "cell_type": "code",
   "execution_count": 32,
   "id": "87a58712",
   "metadata": {
    "scrolled": true
   },
   "outputs": [
    {
     "name": "stdout",
     "output_type": "stream",
     "text": [
      "v_ks200_kd10_c1.mp4\n",
      "v_ks200_kd10_c2.mp4\n",
      "v_ks200_kd10_c583.mp4\n"
     ]
    }
   ],
   "source": [
    "#list all file name in folder\n",
    "\n",
    "import os\n",
    "dir_name = 'C:/Users/*****/Desktop/New folder/ks200_kd10/'\n",
    "# Get list of all files in a given directory sorted by name\n",
    "list_of_files = sorted( filter( lambda x: os.path.isfile(os.path.join(dir_name, x)),\n",
    "                        os.listdir(dir_name) ) )\n",
    "for file_name in list_of_files:\n",
    "    print(file_name)"
   ]
  },
  {
   "cell_type": "code",
   "execution_count": null,
   "id": "dde8df05",
   "metadata": {},
   "outputs": [],
   "source": []
  }
 ],
 "metadata": {
  "kernelspec": {
   "display_name": "Python 3 (ipykernel)",
   "language": "python",
   "name": "python3"
  },
  "language_info": {
   "codemirror_mode": {
    "name": "ipython",
    "version": 3
   },
   "file_extension": ".py",
   "mimetype": "text/x-python",
   "name": "python",
   "nbconvert_exporter": "python",
   "pygments_lexer": "ipython3",
   "version": "3.9.7"
  }
 },
 "nbformat": 4,
 "nbformat_minor": 5
}
